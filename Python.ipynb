{
 "cells": [
  {
   "cell_type": "markdown",
   "id": "45ff0d0b-24de-4b5a-8477-09bc509b37a8",
   "metadata": {},
   "source": [
    "# INTRODUCTION TO PROGRAMMING"
   ]
  },
  {
   "cell_type": "markdown",
   "id": "344cbb77-e85c-4e8d-bceb-99a092481fb1",
   "metadata": {},
   "source": [
    "# CONTENT"
   ]
  },
  {
   "cell_type": "raw",
   "id": "dadc0d22-ac59-43e4-8d8c-0d2f0381b17a",
   "metadata": {},
   "source": [
    "1.PRINTING\n",
    "2.ARITHMETICS\n",
    "3.COMMENTS\n",
    "4.VARIBLES"
   ]
  },
  {
   "cell_type": "markdown",
   "id": "700d539d-c611-421a-b997-bbb536a98b95",
   "metadata": {},
   "source": [
    "# Printing"
   ]
  },
  {
   "cell_type": "raw",
   "id": "8c4b1390-a736-461c-bffb-d1ffc98b0fea",
   "metadata": {},
   "source": [
    "One fo simplest form we ask the computer to print a txt.\n",
    "Using print().For example print hello Bala"
   ]
  },
  {
   "cell_type": "code",
   "execution_count": 6,
   "id": "c550ca74-69ce-4daa-bab6-cd6542ea446f",
   "metadata": {},
   "outputs": [
    {
     "name": "stdout",
     "output_type": "stream",
     "text": [
      "hello Bala\n"
     ]
    }
   ],
   "source": [
    "print(\"hello Bala\")"
   ]
  },
  {
   "cell_type": "markdown",
   "id": "e43b4d16-bd32-41d1-8e14-d9347f973e55",
   "metadata": {},
   "source": [
    "# Arithematic using comments"
   ]
  },
  {
   "cell_type": "raw",
   "id": "ecf990a2-e6f3-4d3c-bb43-84db8a55f4c6",
   "metadata": {},
   "source": [
    "# like wise we can print arithematic operations also like (Add,Sub,Multipication,Division) & we can add comments using # symbol before the txt.For example.."
   ]
  },
  {
   "cell_type": "code",
   "execution_count": 7,
   "id": "acf7af45-784f-4296-816c-c849d19ad634",
   "metadata": {},
   "outputs": [
    {
     "name": "stdout",
     "output_type": "stream",
     "text": [
      "227\n"
     ]
    }
   ],
   "source": [
    "#in order for addition. lets add (2+55+36+89+45)\n",
    "print(2+55+36+89+45)"
   ]
  },
  {
   "cell_type": "code",
   "execution_count": 8,
   "id": "1e7ef7f3-6be8-4aca-8273-eba666fa2004",
   "metadata": {},
   "outputs": [
    {
     "name": "stdout",
     "output_type": "stream",
     "text": [
      "9\n",
      "144\n",
      "5.0\n"
     ]
    }
   ],
   "source": [
    "#the same way Subtraction as follows multiplication & Division can also be performed\n",
    "print(36-27)\n",
    "print(36*4)\n",
    "print(50/10)"
   ]
  },
  {
   "cell_type": "markdown",
   "id": "d5c76656-bcb3-4051-8269-0ae33d3d6d4e",
   "metadata": {},
   "source": [
    "# Varibles\n"
   ]
  },
  {
   "cell_type": "code",
   "execution_count": 11,
   "id": "1143368c-1975-421a-bd14-ea69a65e0186",
   "metadata": {},
   "outputs": [
    {
     "name": "stdout",
     "output_type": "stream",
     "text": [
      "20\n"
     ]
    }
   ],
   "source": [
    "# varibles can also be assigned with values and can be printed.  \n",
    "# for example.\n",
    "# txt_Bala is the varible using = sign we asigne a value and we can use operation like (26-6)\n",
    "txt_Bala=26-6\n",
    "print(txt_Bala)\n"
   ]
  },
  {
   "cell_type": "raw",
   "id": "d7df8f7e-bdfb-4ed6-b53f-1820ea097a80",
   "metadata": {},
   "source": [
    "## Note\n",
    "VARIBLE should only start with a varible or underscore(_)\n",
    "They can't have spaces (e.g., test var is not allowed)\r\n",
    "They can only include letters, numbers, and underscores (e.g., test_var! is not allowed)\r\n",
    "They have to start with a letter or underscore (e.g., 1_var is not allowed)"
   ]
  },
  {
   "cell_type": "markdown",
   "id": "1d6bed02-3231-449d-8be3-6774ddc43f3b",
   "metadata": {},
   "source": [
    "# Introduction to functions"
   ]
  },
  {
   "cell_type": "markdown",
   "id": "88ad0453-e05a-4af7-8d2c-4f517021ffb2",
   "metadata": {},
   "source": [
    "Function is block of code designed to perform a specfic task.\n",
    "for example...ar\n"
   ]
  },
  {
   "cell_type": "code",
   "execution_count": 2,
   "id": "81688e2f-d3cd-49d7-b20f-9806a185ac91",
   "metadata": {},
   "outputs": [],
   "source": [
    "# Define the function\n",
    "\n",
    "def add_three(input_var):\n",
    "    output_var = input_var + 3\n",
    "    return output_var\n"
   ]
  },
  {
   "cell_type": "code",
   "execution_count": 5,
   "id": "8695303b-b0d7-493b-8975-785ae4d788f5",
   "metadata": {},
   "outputs": [],
   "source": [
    "# calling the funtion\n",
    "# run the funtion with 12 as input\n",
    "new_number = add_three(12)"
   ]
  },
  {
   "cell_type": "code",
   "execution_count": 6,
   "id": "e667e13a-3dd9-4c7e-adef-0cca2095e2df",
   "metadata": {},
   "outputs": [
    {
     "name": "stdout",
     "output_type": "stream",
     "text": [
      "15\n"
     ]
    }
   ],
   "source": [
    "print(new_number)"
   ]
  },
  {
   "cell_type": "code",
   "execution_count": 7,
   "id": "2022c737-2e50-4253-9e2d-6f357962b32d",
   "metadata": {},
   "outputs": [],
   "source": [
    "# Naming functions\n",
    "def get_pay(num_hours):\n",
    "    # Pre-tax pay, based on receiving $15/hour\n",
    "    pay_pretax = num_hours * 15\n",
    "    # After-tax pay, based on being in 12% tax bracket\n",
    "    pay_aftertax = pay_pretax * (1 - .12)\n",
    "    return pay_aftertax"
   ]
  },
  {
   "cell_type": "code",
   "execution_count": 8,
   "id": "f41d7fa7-63ba-4721-ba67-6897279cf900",
   "metadata": {},
   "outputs": [
    {
     "name": "stdout",
     "output_type": "stream",
     "text": [
      "528.0\n"
     ]
    }
   ],
   "source": [
    "# Calculate pay based on working 40 hours\n",
    "pay_fulltime = get_pay(40)\n",
    "print(pay_fulltime)"
   ]
  },
  {
   "cell_type": "code",
   "execution_count": 9,
   "id": "6e91312d-b2e3-45e9-af16-3b3552a28bb7",
   "metadata": {},
   "outputs": [
    {
     "name": "stdout",
     "output_type": "stream",
     "text": [
      "422.4\n"
     ]
    }
   ],
   "source": [
    "pay_parttime = get_pay(32)\n",
    "print(pay_parttime)"
   ]
  },
  {
   "cell_type": "markdown",
   "id": "34cbc241-43d0-457b-82aa-0e8374541c97",
   "metadata": {},
   "source": [
    "# Introduction to data types"
   ]
  },
  {
   "cell_type": "markdown",
   "id": "5fafac00-e59f-48b4-aae3-58c3eca314d0",
   "metadata": {},
   "source": [
    "1.intergers\n",
    "2.floats\n",
    "3.booleans\n",
    "4.strings"
   ]
  },
  {
   "cell_type": "markdown",
   "id": "07300443-5a29-487e-99b6-fec54fe1df65",
   "metadata": {},
   "source": [
    "# integers\n",
    "intergers are numbers without any fractional part it may be postive(1,2,3,...),negitive(-1,-2,-3...) or zero(0)"
   ]
  },
  {
   "cell_type": "code",
   "execution_count": 12,
   "id": "63335ebd-dfcd-4201-a114-6493a7634b96",
   "metadata": {},
   "outputs": [
    {
     "name": "stdout",
     "output_type": "stream",
     "text": [
      "10\n",
      "<class 'int'>\n"
     ]
    }
   ],
   "source": [
    "x = 10\n",
    "print(x)\n",
    "print(type(x))\n"
   ]
  },
  {
   "cell_type": "markdown",
   "id": "121c61ba-5080-4841-b009-ad08ace188f6",
   "metadata": {},
   "source": [
    "# Float\n",
    "Floats are number with fractional parts.they can have many numbers after decimal."
   ]
  },
  {
   "cell_type": "code",
   "execution_count": 16,
   "id": "b374684d-95e9-47a5-b06a-a0587cc49987",
   "metadata": {},
   "outputs": [
    {
     "name": "stdout",
     "output_type": "stream",
     "text": [
      "3.142857142857143\n",
      "<class 'float'>\n"
     ]
    }
   ],
   "source": [
    "almost_pi = 22/7\n",
    "print(almost_pi)\n",
    "print(type(almost_pi))\n"
   ]
  },
  {
   "cell_type": "code",
   "execution_count": 13,
   "id": "c3d62243-4221-421e-b7ff-1104611e25e9",
   "metadata": {},
   "outputs": [
    {
     "name": "stdout",
     "output_type": "stream",
     "text": [
      "3.14\n",
      "<class 'float'>\n"
     ]
    }
   ],
   "source": [
    "nearly_pi = 3.14\n",
    "print(nearly_pi)\n",
    "print(type(nearly_pi))"
   ]
  },
  {
   "cell_type": "raw",
   "id": "a6bda1bb-2fde-41ee-9fd7-de596cba188e",
   "metadata": {},
   "source": [
    "One function that is particularly useful for fractions is the round() function. \n",
    "It lets you round a number to a specified number of decimal places."
   ]
  },
  {
   "cell_type": "code",
   "execution_count": 17,
   "id": "42c1a923-4865-4f38-9064-3e0001126842",
   "metadata": {},
   "outputs": [
    {
     "name": "stdout",
     "output_type": "stream",
     "text": [
      "3.142857\n",
      "<class 'float'>\n"
     ]
    }
   ],
   "source": [
    "\n",
    "# Round to 6 decimal places\n",
    "rounded_pi = round(almost_pi,6)\n",
    "print(rounded_pi)\n",
    "print(type(rounded_pi))"
   ]
  },
  {
   "cell_type": "markdown",
   "id": "e37451c6-15a9-49d6-8cc6-db4dc38aedcc",
   "metadata": {},
   "source": [
    "# Booleans \n",
    "Booleans represent 'true' or 'false'.z_one is set to a boolean with value True."
   ]
  },
  {
   "cell_type": "code",
   "execution_count": 19,
   "id": "b4bc235d-e5ac-4d9f-b7c0-ef637f8b8e1a",
   "metadata": {},
   "outputs": [
    {
     "name": "stdout",
     "output_type": "stream",
     "text": [
      "True\n",
      "<class 'bool'>\n"
     ]
    }
   ],
   "source": [
    "z_one = True\n",
    "print(z_one)\n",
    "print(type(z_one))"
   ]
  },
  {
   "cell_type": "code",
   "execution_count": 21,
   "id": "b0e360ea-3a7e-408f-9ec6-7dce314f7141",
   "metadata": {},
   "outputs": [
    {
     "name": "stdout",
     "output_type": "stream",
     "text": [
      "False\n",
      "<class 'bool'>\n"
     ]
    }
   ],
   "source": [
    "z_two = False\n",
    "print(z_two)\n",
    "print(type(z_two))"
   ]
  },
  {
   "cell_type": "code",
   "execution_count": null,
   "id": "8f89ec48-ba00-4b6b-ba2b-5255c31cb313",
   "metadata": {},
   "outputs": [],
   "source": []
  }
 ],
 "metadata": {
  "kernelspec": {
   "display_name": "Python 3 (ipykernel)",
   "language": "python",
   "name": "python3"
  },
  "language_info": {
   "codemirror_mode": {
    "name": "ipython",
    "version": 3
   },
   "file_extension": ".py",
   "mimetype": "text/x-python",
   "name": "python",
   "nbconvert_exporter": "python",
   "pygments_lexer": "ipython3",
   "version": "3.11.4"
  }
 },
 "nbformat": 4,
 "nbformat_minor": 5
}
